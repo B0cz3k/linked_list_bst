{
 "cells": [
  {
   "attachments": {},
   "cell_type": "markdown",
   "metadata": {},
   "source": [
    "# Report 2 - Linked List and Binary Search Tree\n",
    "### Jakub Jagła, Łukasz Borak - Laboratories group 3, Algorithms and Data Structures\n",
    "*** "
   ]
  },
  {
   "attachments": {},
   "cell_type": "markdown",
   "metadata": {},
   "source": [
    "## Descriptions"
   ]
  },
  {
   "attachments": {},
   "cell_type": "markdown",
   "metadata": {},
   "source": [
    "1. **Singly Linked List** - it's a list that can be traversed only from the beginning to the end. Each node can be anywhere in the memory and point to its successor. It allocates the memory dynamically. Therefore it optimizes memory usage. We do not need to specify the size of a linked list in advance.\n",
    "2. **Binary Search Tree** - some description here"
   ]
  },
  {
   "attachments": {},
   "cell_type": "markdown",
   "metadata": {},
   "source": [
    "### Time complexity comparison"
   ]
  },
  {
   "attachments": {},
   "cell_type": "markdown",
   "metadata": {},
   "source": [
    "|  | Insert | Search | Remove | Min / Max | Number of elements |\n",
    "| --- | --- | --- | --- | --- | ---  |\n",
    "| Singly Linked List | $O()$ | $O()$ | $O()$ | $O()$ | $O()$ |\n",
    "| Binary Search Tree | $O()$ | $O()$ | $O()$ | $O()$ | $O()$ |"
   ]
  },
  {
   "attachments": {},
   "cell_type": "markdown",
   "metadata": {},
   "source": [
    "## Code"
   ]
  },
  {
   "attachments": {},
   "cell_type": "markdown",
   "metadata": {},
   "source": [
    "### Linked List"
   ]
  },
  {
   "cell_type": "code",
   "execution_count": 6,
   "metadata": {},
   "outputs": [],
   "source": [
    "class Node:\n",
    "    def __init__(self, data) -> None:\n",
    "        self.val = data\n",
    "        self.next = None\n",
    "\n",
    "    def add(self, data):\n",
    "        while self.next is not None:\n",
    "            self = self.next\n",
    "        self.next = Node(data)\n",
    "    \n",
    "    def exist(self, data):\n",
    "        while self.val != data and self.next is not None:\n",
    "            self = self.next\n",
    "\n",
    "        return self.val == data\n",
    "        \n",
    "    def remove(self, data):\n",
    "        if not self.exist(data):\n",
    "            print(f'Remove: given element ({data}) does not exist')\n",
    "            return \n",
    "\n",
    "        if self.val == data: # removing the first element\n",
    "            self.val = self.next.val\n",
    "            self.next = self.next.next if self.next.next is not None else None\n",
    "            print(f'Removed {data} succesfully')\n",
    "            return\n",
    "\n",
    "        while self.next is not None: # removing anything else\n",
    "            if self.next.val == data and self.next.next is None:\n",
    "                self.next = None\n",
    "                print(f'Removed {data} succesfully')\n",
    "                return\n",
    "            elif self.next.val == data:\n",
    "                self.next = self.next.next\n",
    "            else:\n",
    "                self = self.next\n",
    "\n",
    "    def maxi(self, M=-2147483647):\n",
    "        while self.next is not None:\n",
    "            if self.val > M:\n",
    "                M = self.val\n",
    "            self = self.next\n",
    "\n",
    "        return max(self.val, M)\n",
    "        \n",
    "    def mini(self, m=2147483647):\n",
    "        while self.next is not None:\n",
    "            if self.val < m:\n",
    "                m = self.val\n",
    "            self = self.next\n",
    "\n",
    "        return min(self.val, m)\n",
    "        \n",
    "    def total_elements(self, count=0):\n",
    "        if self.val is not None:\n",
    "            count += 1\n",
    "\n",
    "        while self.next is not None:\n",
    "            count += 1\n",
    "            self = self.next\n",
    "\n",
    "        return count\n",
    "            \n",
    "    def __str__(self) -> str:\n",
    "        s = f'{self.val}'\n",
    "        while self.next is not None:\n",
    "            self = self.next\n",
    "            s += f' -> {self.val}'\n",
    "        return s"
   ]
  },
  {
   "attachments": {},
   "cell_type": "markdown",
   "metadata": {},
   "source": [
    "Testing"
   ]
  },
  {
   "cell_type": "code",
   "execution_count": 7,
   "metadata": {},
   "outputs": [
    {
     "name": "stdout",
     "output_type": "stream",
     "text": [
      "Before removal: 5 -> 3 -> 1 -> 2 -> 4\n",
      "Removed 5 succesfully\n",
      "Remove: given element (7) does not exist\n",
      "After removal: 3 -> 1 -> 2 -> 4\n",
      "2 exists in the list: True\n",
      "5 exists in the list: False\n",
      "Max element: 4\n",
      "Min element: 1\n",
      "Total elements: 4\n"
     ]
    }
   ],
   "source": [
    "List = Node(5)\n",
    "List.add(3)\n",
    "List.add(1)\n",
    "List.add(2)\n",
    "List.add(4)\n",
    "print(f'Before removal: {List}')\n",
    "List.remove(5)\n",
    "List.remove(7)\n",
    "print(f'After removal: {List}')\n",
    "print(f'2 exists in the list: {List.exist(2)}')\n",
    "print(f'5 exists in the list: {List.exist(5)}')\n",
    "print(f'Max element: {List.maxi()}')\n",
    "print(f'Min element: {List.mini()}')\n",
    "print(f'Total elements: {List.total_elements()}')"
   ]
  },
  {
   "attachments": {},
   "cell_type": "markdown",
   "metadata": {},
   "source": [
    "### Binary Search Tree"
   ]
  },
  {
   "cell_type": "code",
   "execution_count": 8,
   "metadata": {},
   "outputs": [],
   "source": [
    "from graphviz import Digraph\n",
    "import random\n",
    "\n",
    "def print_tree(root):\n",
    "    dot = Digraph(\"Tree\",strict=False)\n",
    "    dot.format='png'\n",
    "    dot.node(\"RT\",str(root.val))\n",
    "    def add_rec(dot:Digraph,node,name,parent_name=\"RT\"):\n",
    "        if node is None:return\n",
    "        dot.node(name,str(node.val))\n",
    "        if name != \"RT\":dot.edge(parent_name,name)\n",
    "\n",
    "        add_rec(dot, node.left, f\"{name}L\", name)\n",
    "        add_rec(dot, node.right, f\"{name}R\", name)\n",
    "\n",
    "    add_rec(dot,root,\"RT\")\n",
    "    dot.view()\n",
    "\n",
    "class tree_node:\n",
    "    def __init__(self,val,parent=None,left=None,right=None) -> None:\n",
    "        self.val = val\n",
    "        self.parent = parent\n",
    "        self.left = left\n",
    "        self.right = right\n",
    "\n",
    "class tree:\n",
    "    def __init__(self,val) -> None:\n",
    "        self.anchor = tree_node(-float(\"inf\")) #we need an anchor so that every node with a value has a parent\n",
    "        self.root_node = self.anchor\n",
    "        self.insert(val)\n",
    "        self.root_node = self.anchor.right\n",
    "    \n",
    "    def insert(self,value):\n",
    "        curr = self.root_node\n",
    "        while curr != None:\n",
    "            if value >= curr.val:\n",
    "                if curr.right is None:\n",
    "                    curr.right = tree_node(value,curr)\n",
    "                    return 0\n",
    "                else:\n",
    "                    curr = curr.right\n",
    "            elif curr.left is None:\n",
    "                curr.left = tree_node(value,curr)\n",
    "                return True\n",
    "            else:\n",
    "                curr = curr.left\n",
    "        return False\n",
    "    \n",
    "    #returns node with value from subtree with root=root or None if value is not in tree\n",
    "    def getnode(self,value,root = None):\n",
    "        curr = self.root_node if root is None else root\n",
    "        while (curr != None):\n",
    "            if value == curr.val:return curr\n",
    "            else:\n",
    "                curr = curr.right if value > curr.val else curr.left\n",
    "        return None\n",
    "    def contains(self,value):\n",
    "        return bool(self.getnode(value))\n",
    "    \n",
    "    def min(self,node = None):\n",
    "        curr = self.root_node if node is None else node\n",
    "        mini = curr.val\n",
    "        while (curr := curr.left) != None:\n",
    "            if curr.val < mini: mini = curr.val\n",
    "        return mini\n",
    "    \n",
    "    def max(self,node = None):\n",
    "        curr = self.root_node if node is None else node\n",
    "        mx = curr.val\n",
    "        while (curr := curr.right) != None:\n",
    "            if curr.val > mx: mx = curr.val\n",
    "        return mx\n",
    "\n",
    "    def num_elements(self,node = None):\n",
    "        if node is None: node = self.root_node\n",
    "        return 1 + (self.num_elements(node.left) if node.left != None else 0) + (self.num_elements(node.right) if node.right != None else 0) \n",
    "    \n",
    "    def remove(self,value,root = None):\n",
    "        n = self.getnode(value, self.root_node if root is None else root)\n",
    "        if n is None:\n",
    "            print(f\"Node with value {value} does not exist\") \n",
    "            return False\n",
    "\n",
    "        if n.left is None and n.right is None:\n",
    "            if n.parent.val <= n.val: n.parent.right = None\n",
    "            else: n.parent.left = None\n",
    "            del n\n",
    "        elif n.left is not None and n.right is not None:\n",
    "            n.val = self.min(n.right)\n",
    "            self.remove(n.val,n.right)\n",
    "        else:\n",
    "            node_to_connect = n.left if n.left != None else n.right\n",
    "            if n.parent.val <= n.val: n.parent.right = node_to_connect\n",
    "            else: n.parent.left = node_to_connect\n",
    "            node_to_connect.parent = n.parent\n",
    "            if n == self.root_node: self.root_node = self.anchor.right\n",
    "            del n"
   ]
  },
  {
   "attachments": {},
   "cell_type": "markdown",
   "metadata": {},
   "source": [
    "Testing"
   ]
  },
  {
   "cell_type": "code",
   "execution_count": 9,
   "metadata": {},
   "outputs": [
    {
     "name": "stdout",
     "output_type": "stream",
     "text": [
      "101\n"
     ]
    }
   ],
   "source": [
    "n=100\n",
    "t = tree(n//2)\n",
    "\n",
    "arr = list(range(n))\n",
    "for i in [arr.pop(random.randint(0,n-i-1)) for i in range(n)]:\n",
    "    t.insert(i)\n",
    "\n",
    "print(t.num_elements())\n",
    "t.remove(n//2)\n",
    "t.remove(n//2)\n",
    "print_tree(t.root_node)"
   ]
  },
  {
   "attachments": {},
   "cell_type": "markdown",
   "metadata": {},
   "source": [
    "### Timer"
   ]
  },
  {
   "cell_type": "code",
   "execution_count": null,
   "metadata": {},
   "outputs": [],
   "source": [
    "..."
   ]
  },
  {
   "attachments": {},
   "cell_type": "markdown",
   "metadata": {},
   "source": [
    "## Graphs"
   ]
  },
  {
   "cell_type": "code",
   "execution_count": 1,
   "metadata": {},
   "outputs": [
    {
     "data": {
      "image/png": "[encoded data removed]",
      "text/plain": [
       "<Figure size 640x480 with 1 Axes>"
      ]
     },
     "metadata": {},
     "output_type": "display_data"
    },
    {
     "data": {
      "text/plain": [
       "\"\\nfig, ax = plt.subplots(1, 1)\\nax.plot(x[:10], linked_list[:10], color='red', label='Linked List')\\nax.plot(x[:10], bst[:10], color='green', label='Binary Search Tree')\\n\\nplt.scatter(x[:10], linked_list[:10], s=100, c='red', marker='o')#\\nplt.scatter(x[:10], bst[:10], s=100, c='green', marker='o')#\\n\\nplt.title('Linked List vs Binary Search Tree')\\nplt.xlabel('number of elements')\\nplt.ylabel('time [s]')\\nplt.legend()\\nplt.grid(True)\\nplt.show()\\n\""
      ]
     },
     "execution_count": 1,
     "metadata": {},
     "output_type": "execute_result"
    }
   ],
   "source": [
    "'''\n",
    "Measure how much time it takes to check existence of an element depending on the number\n",
    "of them. All your results should be presented using graphs.\n",
    "'''\n",
    "import matplotlib.pyplot as plt\n",
    "import numpy as np\n",
    "\n",
    "# Load and rearrange the data\n",
    "linked_list = np.loadtxt('linked_list.txt', delimiter=' ')\n",
    "#bst = np.loadtxt('bst.txt', delimiter=' ')\n",
    "x = np.arange(len(linked_list))\n",
    "\n",
    "# Plot\n",
    "fig, ax = plt.subplots(1, 1)\n",
    "ax.plot(x, linked_list, color='red', label='Linked List')\n",
    "#ax.plot(x, bst, color='green', label='Binary Search Tree')\n",
    "\n",
    "plt.scatter(x, linked_list, s=100, c='red', marker='o')#\n",
    "#plt.scatter(x, bst, s=100, c='green', marker='o')#\n",
    "\n",
    "plt.title('Linked List vs Binary Seach Tree')\n",
    "plt.xlabel('number of elements')\n",
    "plt.ylabel('time [s]')\n",
    "plt.legend()\n",
    "plt.grid(True)\n",
    "plt.show()\n",
    "\n",
    "'''\n",
    "fig, ax = plt.subplots(1, 1)\n",
    "ax.plot(x[:10], linked_list[:10], color='red', label='Linked List')\n",
    "ax.plot(x[:10], bst[:10], color='green', label='Binary Search Tree')\n",
    "\n",
    "plt.scatter(x[:10], linked_list[:10], s=100, c='red', marker='o')#\n",
    "plt.scatter(x[:10], bst[:10], s=100, c='green', marker='o')#\n",
    "\n",
    "plt.title('Linked List vs Binary Search Tree')\n",
    "plt.xlabel('number of elements')\n",
    "plt.ylabel('time [s]')\n",
    "plt.legend()\n",
    "plt.grid(True)\n",
    "plt.show()\n",
    "'''"
   ]
  }
 ],
 "metadata": {
  "kernelspec": {
   "display_name": "Python 3",
   "language": "python",
   "name": "python3"
  },
  "language_info": {
   "codemirror_mode": {
    "name": "ipython",
    "version": 3
   },
   "file_extension": ".py",
   "mimetype": "text/x-python",
   "name": "python",
   "nbconvert_exporter": "python",
   "pygments_lexer": "ipython3",
   "version": "3.11.2"
  },
  "orig_nbformat": 4
 },
 "nbformat": 4,
 "nbformat_minor": 2
}
