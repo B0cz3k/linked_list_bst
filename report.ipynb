{
 "cells": [
  {
   "attachments": {},
   "cell_type": "markdown",
   "metadata": {},
   "source": [
    "# Report 2 - Linked List and Binary Search Tree\n",
    "### Jakub Jagła, Łukasz Borak - Laboratories group 3, Algorithms and Data Structures\n",
    "*** "
   ]
  },
  {
   "attachments": {},
   "cell_type": "markdown",
   "metadata": {},
   "source": [
    "## Descriptions"
   ]
  },
  {
   "attachments": {},
   "cell_type": "markdown",
   "metadata": {},
   "source": [
    "1. **Linked List** - some description here\n",
    "2. **Binary Search Tree** - some description here"
   ]
  },
  {
   "attachments": {},
   "cell_type": "markdown",
   "metadata": {},
   "source": [
    "## Code"
   ]
  },
  {
   "attachments": {},
   "cell_type": "markdown",
   "metadata": {},
   "source": [
    "### Linked List"
   ]
  },
  {
   "cell_type": "code",
   "execution_count": null,
   "metadata": {},
   "outputs": [],
   "source": [
    "class Node:\n",
    "    def __init__(self, data) -> None:\n",
    "        self.val = data\n",
    "        self.next = None\n",
    "\n",
    "    def add(self, data):\n",
    "        if self.next is not None:\n",
    "            return self.next.add(data)\n",
    "        else:\n",
    "            self.next = Node(data)\n",
    "    \n",
    "    def exist(self, data):\n",
    "        if self.val == data:\n",
    "            return True\n",
    "        elif self.next is not None:\n",
    "            return self.next.exist(data)\n",
    "        else:\n",
    "            return False\n",
    "        \n",
    "    def remove(self, data):\n",
    "        if not self.exist(data):\n",
    "            return 'Given element does not exist'\n",
    "        if self.next is not None:\n",
    "            if self.next.val == data and self.next.next is None:\n",
    "                self.next = None\n",
    "            elif self.next.val == data:\n",
    "                self.next = self.next.next\n",
    "            else:\n",
    "                return self.next.remove(data)\n",
    "            \n",
    "    def maxi(self, M=-2147483648):\n",
    "        if self.val > M and self.next is not None:\n",
    "            return self.next.maxi(self.val)\n",
    "        elif self.val > M:\n",
    "            return f'Maximum: {self.val}'\n",
    "        elif self.next is not None:\n",
    "            return self.next.maxi(M)\n",
    "        else:\n",
    "            return f'Maximum: {M}'\n",
    "        \n",
    "    def mini(self, m=2147483648):\n",
    "        if self.val < m and self.next is not None:\n",
    "            return self.next.mini(self.val)\n",
    "        elif self.val < m:\n",
    "            return f'Minimum: {self.val}'\n",
    "        elif self.next is not None:\n",
    "            return self.next.mini(m)\n",
    "        else:\n",
    "            return f'Minimum: {m}'\n",
    "        \n",
    "    def total_elements(self, count=0):\n",
    "        return self.next.total_elements(count=count+1) if self.next is not None else f'Total number of elements: {count+1}'\n",
    "            \n",
    "    def __str__(self) -> str:\n",
    "        return f'{self.val} -> {self.next}'"
   ]
  },
  {
   "attachments": {},
   "cell_type": "markdown",
   "metadata": {},
   "source": [
    "Testing"
   ]
  },
  {
   "cell_type": "code",
   "execution_count": null,
   "metadata": {},
   "outputs": [],
   "source": [
    "List = Node(5)\n",
    "List.add(3)\n",
    "List.add(1)\n",
    "print(List.exist(2))\n",
    "print(List.exist(5))\n",
    "print(List)\n",
    "print(List.maxi())\n",
    "print(List.mini())\n",
    "print(List.total_elements())"
   ]
  },
  {
   "attachments": {},
   "cell_type": "markdown",
   "metadata": {},
   "source": [
    "### Binary Search Tree"
   ]
  },
  {
   "cell_type": "code",
   "execution_count": null,
   "metadata": {},
   "outputs": [],
   "source": [
    "import ugabuga"
   ]
  }
 ],
 "metadata": {
  "language_info": {
   "name": "python"
  },
  "orig_nbformat": 4
 },
 "nbformat": 4,
 "nbformat_minor": 2
}
